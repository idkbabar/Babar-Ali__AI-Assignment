{
 "cells": [
  {
   "cell_type": "markdown",
   "id": "d7faa715-1c2f-412f-a564-06cd6c7b876f",
   "metadata": {},
   "source": [
    "                                                               Strings"
   ]
  },
  {
   "cell_type": "code",
   "execution_count": 2,
   "id": "4b47b989-369e-46b1-91d6-1eec55b9ee8d",
   "metadata": {},
   "outputs": [
    {
     "name": "stdout",
     "output_type": "stream",
     "text": [
      "String: Hello, world!\n",
      "Length: 13\n",
      "First character: H\n",
      "Last character: !\n",
      "Substring: world\n",
      "Concatenated string: Hello world\n",
      "Repeated string: HelloHelloHello\n",
      "Split string: ['Hello', ' world!']\n",
      "Joined string: Hello world\n",
      "Substring 'world' found in string: True\n",
      "String after replacement: Hello, Python!\n",
      "Uppercase string: HELLO, WORLD!\n",
      "Lowercase string: hello, world!\n"
     ]
    }
   ],
   "source": [
    "# Define a string\n",
    "my_string = \"Hello, world!\"\n",
    "\n",
    "# Print the string\n",
    "print(\"String:\", my_string)\n",
    "\n",
    "# Get the length of the string\n",
    "length = len(my_string)\n",
    "print(\"Length:\", length)\n",
    "\n",
    "# Access characters in the string\n",
    "first_character = my_string[0]\n",
    "print(\"First character:\", first_character)\n",
    "\n",
    "last_character = my_string[-1]\n",
    "print(\"Last character:\", last_character)\n",
    "\n",
    "# Slicing the string\n",
    "substring = my_string[7:12]\n",
    "print(\"Substring:\", substring)\n",
    "\n",
    "# Concatenating strings\n",
    "string1 = \"Hello\"\n",
    "string2 = \"world\"\n",
    "concatenated_string = string1 + \" \" + string2\n",
    "print(\"Concatenated string:\", concatenated_string)\n",
    "\n",
    "# Repeating a string\n",
    "repeated_string = string1 * 3\n",
    "print(\"Repeated string:\", repeated_string)\n",
    "\n",
    "# Splitting a string\n",
    "words = my_string.split(\",\")\n",
    "print(\"Split string:\", words)\n",
    "\n",
    "# Joining strings from a list\n",
    "words = [\"Hello\", \"world\"]\n",
    "joined_string = \" \".join(words)\n",
    "print(\"Joined string:\", joined_string)\n",
    "\n",
    "# Checking for substring\n",
    "substring = \"world\" in my_string\n",
    "print(\"Substring 'world' found in string:\", substring)\n",
    "\n",
    "# Replacing substring\n",
    "new_string = my_string.replace(\"world\", \"Python\")\n",
    "print(\"String after replacement:\", new_string)\n",
    "\n",
    "# Converting to uppercase and lowercase\n",
    "uppercase_string = my_string.upper()\n",
    "print(\"Uppercase string:\", uppercase_string)\n",
    "\n",
    "lowercase_string = my_string.lower()\n",
    "print(\"Lowercase string:\", lowercase_string)"
   ]
  },
  {
   "cell_type": "markdown",
   "id": "b9b35a87-3ecb-4679-b6de-14d7a85676da",
   "metadata": {},
   "source": [
    "                                                            Data types in python"
   ]
  },
  {
   "cell_type": "code",
   "execution_count": 3,
   "id": "886df61f-475d-4c32-bae5-11ad3f76209a",
   "metadata": {},
   "outputs": [
    {
     "name": "stdout",
     "output_type": "stream",
     "text": [
      "Type of num_int: <class 'int'>\n",
      "Type of num_float: <class 'float'>\n",
      "Type of str_var: <class 'str'>\n",
      "Type of bool_var: <class 'bool'>\n",
      "Type of list_var: <class 'list'>\n",
      "Type of tuple_var: <class 'tuple'>\n",
      "Type of dict_var: <class 'dict'>\n",
      "Type of set_var: <class 'set'>\n"
     ]
    }
   ],
   "source": [
    "# Integer\n",
    "num_int = 10\n",
    "\n",
    "# Float\n",
    "num_float = 3.14\n",
    "\n",
    "# String\n",
    "str_var = \"Hello, world!\"\n",
    "\n",
    "# Boolean\n",
    "bool_var = True\n",
    "\n",
    "# List\n",
    "list_var = [1, 2, 3, 4, 5]\n",
    "\n",
    "# Tuple\n",
    "tuple_var = (1, 2, 3, 4, 5)\n",
    "\n",
    "# Dictionary\n",
    "dict_var = {'a': 1, 'b': 2, 'c': 3}\n",
    "\n",
    "# Set\n",
    "set_var = {1, 2, 3, 4, 5}\n",
    "\n",
    "# Printing out the types of each variable\n",
    "print(\"Type of num_int:\", type(num_int))\n",
    "print(\"Type of num_float:\", type(num_float))\n",
    "print(\"Type of str_var:\", type(str_var))\n",
    "print(\"Type of bool_var:\", type(bool_var))\n",
    "print(\"Type of list_var:\", type(list_var))\n",
    "print(\"Type of tuple_var:\", type(tuple_var))\n",
    "print(\"Type of dict_var:\", type(dict_var))\n",
    "print(\"Type of set_var:\", type(set_var))"
   ]
  },
  {
   "cell_type": "markdown",
   "id": "4cb5e1c7-c871-4315-ad30-85451ce63dca",
   "metadata": {},
   "source": [
    "                                                                    Loops"
   ]
  },
  {
   "cell_type": "code",
   "execution_count": 4,
   "id": "efd25221-d172-4895-b84f-e7913fe2be10",
   "metadata": {},
   "outputs": [
    {
     "name": "stdout",
     "output_type": "stream",
     "text": [
      "For loop:\n",
      "0\n",
      "1\n",
      "2\n",
      "3\n",
      "4\n",
      "\n",
      "While loop:\n",
      "0\n",
      "1\n",
      "2\n",
      "3\n",
      "4\n",
      "\n",
      "Nested loops:\n",
      "0 0\n",
      "0 1\n",
      "1 0\n",
      "1 1\n",
      "2 0\n",
      "2 1\n",
      "\n",
      "Looping through a list:\n",
      "apple\n",
      "banana\n",
      "cherry\n",
      "\n",
      "Looping through a dictionary:\n",
      "name: John\n",
      "age: 30\n",
      "city: New York\n"
     ]
    }
   ],
   "source": [
    "# For loop\n",
    "print(\"For loop:\")\n",
    "for i in range(5):  # Loop from 0 to 4\n",
    "    print(i)\n",
    "\n",
    "# While loop\n",
    "print(\"\\nWhile loop:\")\n",
    "j = 0\n",
    "while j < 5:\n",
    "    print(j)\n",
    "    j += 1\n",
    "\n",
    "# Nested loops\n",
    "print(\"\\nNested loops:\")\n",
    "for i in range(3):\n",
    "    for j in range(2):\n",
    "        print(i, j)\n",
    "\n",
    "# Looping through a list\n",
    "print(\"\\nLooping through a list:\")\n",
    "fruits = [\"apple\", \"banana\", \"cherry\"]\n",
    "for fruit in fruits:\n",
    "    print(fruit)\n",
    "\n",
    "# Looping through a dictionary\n",
    "print(\"\\nLooping through a dictionary:\")\n",
    "person = {\"name\": \"John\", \"age\": 30, \"city\": \"New York\"}\n",
    "for key, value in person.items():\n",
    "    print(key + \":\", value)"
   ]
  },
  {
   "cell_type": "markdown",
   "id": "2fe2c70d-8361-4860-959b-e56583b98145",
   "metadata": {},
   "source": [
    "                                                        Conditional Statements"
   ]
  },
  {
   "cell_type": "code",
   "execution_count": 7,
   "id": "1be3ca0f-f11f-4dce-8f97-a3fd4048626f",
   "metadata": {},
   "outputs": [
    {
     "name": "stdout",
     "output_type": "stream",
     "text": [
      "x is greater than 5\n",
      "y is odd\n",
      "C\n"
     ]
    }
   ],
   "source": [
    "# Example of conditional statements\n",
    "\n",
    "# Example 1: if statement\n",
    "x = 10\n",
    "if x > 5:\n",
    "    print(\"x is greater than 5\")\n",
    "\n",
    "# Example 2: if-else statement\n",
    "y = 3\n",
    "if y % 2 == 0:\n",
    "    print(\"y is even\")\n",
    "else:\n",
    "    print(\"y is odd\")\n",
    "\n",
    "# Example 3: if-elif-else statement\n",
    "grade = 75\n",
    "if grade >= 90:\n",
    "    print(\"A\")\n",
    "elif grade >= 80:\n",
    "    print(\"B\")\n",
    "elif grade >= 70:\n",
    "    print(\"C\")\n",
    "elif grade >= 60:\n",
    "    print(\"D\")\n",
    "else:\n",
    "    print(\"F\")\n"
   ]
  },
  {
   "cell_type": "markdown",
   "id": "78d164c6-d879-44f2-8f8c-48b7fe380850",
   "metadata": {},
   "source": [
    "                                                                 Function"
   ]
  },
  {
   "cell_type": "code",
   "execution_count": 8,
   "id": "ca83b51c-d6d8-411d-9939-dbe6aad5303a",
   "metadata": {},
   "outputs": [
    {
     "name": "stdout",
     "output_type": "stream",
     "text": [
      "Hello, Alice\n",
      "Hello, Bob\n",
      "Hello, Guest\n",
      "Hello, Charlie\n",
      "Result of addition: 8\n"
     ]
    }
   ],
   "source": [
    "# Defining a function\n",
    "def greet(name):\n",
    "    \"\"\"This function greets the person with the given name.\"\"\"\n",
    "    print(\"Hello,\", name)\n",
    "\n",
    "# Calling the function\n",
    "greet(\"Alice\")\n",
    "greet(\"Bob\")\n",
    "\n",
    "# Function with default parameter value\n",
    "def greet_default(name=\"Guest\"):\n",
    "    \"\"\"This function greets the person with the given name, or 'Guest' if no name is provided.\"\"\"\n",
    "    print(\"Hello,\", name)\n",
    "\n",
    "# Calling the function without providing a name\n",
    "greet_default()\n",
    "\n",
    "# Calling the function with a name\n",
    "greet_default(\"Charlie\")\n",
    "\n",
    "# Function with multiple parameters\n",
    "def add(a, b):\n",
    "    \"\"\"This function adds two numbers and returns the result.\"\"\"\n",
    "    return a + b\n",
    "\n",
    "# Calling the function and storing the result\n",
    "result = add(3, 5)\n",
    "print(\"Result of addition:\", result)"
   ]
  },
  {
   "cell_type": "markdown",
   "id": "fbf3fde9-58f1-493c-8468-65dcee2b72f1",
   "metadata": {},
   "source": [
    "                                                                     Classes"
   ]
  },
  {
   "cell_type": "code",
   "execution_count": 9,
   "id": "293e10c9-2924-4358-8473-77f51a342888",
   "metadata": {},
   "outputs": [
    {
     "name": "stdout",
     "output_type": "stream",
     "text": [
      "Buddy is a Labrador\n",
      "Woof! My name is Buddy\n",
      "Max is a German Shepherd\n",
      "Woof! My name is Max\n"
     ]
    }
   ],
   "source": [
    "# Defining a class\n",
    "class Dog:\n",
    "    # Constructor\n",
    "    def __init__(self, name, breed):\n",
    "        self.name = name\n",
    "        self.breed = breed\n",
    "    \n",
    "    # Method to bark\n",
    "    def bark(self):\n",
    "        print(\"Woof! My name is\", self.name)\n",
    "\n",
    "# Creating objects of the class\n",
    "dog1 = Dog(\"Buddy\", \"Labrador\")\n",
    "dog2 = Dog(\"Max\", \"German Shepherd\")\n",
    "\n",
    "# Accessing attributes and calling methods\n",
    "print(dog1.name, \"is a\", dog1.breed)\n",
    "dog1.bark()\n",
    "\n",
    "print(dog2.name, \"is a\", dog2.breed)\n",
    "dog2.bark()"
   ]
  },
  {
   "cell_type": "markdown",
   "id": "e4cf7987-7576-4b9c-aaa1-e1e4d0f0ac7c",
   "metadata": {},
   "source": [
    "                                                             Installing Numpy And Pandas"
   ]
  },
  {
   "cell_type": "code",
   "execution_count": 10,
   "id": "4ada1633-f7d6-4195-8962-9dcc1eb88847",
   "metadata": {},
   "outputs": [
    {
     "name": "stdout",
     "output_type": "stream",
     "text": [
      "Requirement already satisfied: numpy in c:\\users\\idk babar\\appdata\\local\\programs\\python\\python312\\lib\\site-packages (1.26.4)\n"
     ]
    }
   ],
   "source": [
    "!pip install numpy"
   ]
  },
  {
   "cell_type": "code",
   "execution_count": 11,
   "id": "5be48350-aa77-4fc8-ad74-71f607ed9d36",
   "metadata": {},
   "outputs": [],
   "source": [
    "import numpy as np"
   ]
  },
  {
   "cell_type": "code",
   "execution_count": 12,
   "id": "3b4164a0-5be1-4e4f-a743-69b0e01d8ef2",
   "metadata": {},
   "outputs": [
    {
     "name": "stdout",
     "output_type": "stream",
     "text": [
      "Requirement already satisfied: pandas in c:\\users\\idk babar\\appdata\\local\\programs\\python\\python312\\lib\\site-packages (2.2.2)\n",
      "Requirement already satisfied: numpy>=1.26.0 in c:\\users\\idk babar\\appdata\\local\\programs\\python\\python312\\lib\\site-packages (from pandas) (1.26.4)\n",
      "Requirement already satisfied: python-dateutil>=2.8.2 in c:\\users\\idk babar\\appdata\\local\\programs\\python\\python312\\lib\\site-packages (from pandas) (2.9.0.post0)\n",
      "Requirement already satisfied: pytz>=2020.1 in c:\\users\\idk babar\\appdata\\local\\programs\\python\\python312\\lib\\site-packages (from pandas) (2024.1)\n",
      "Requirement already satisfied: tzdata>=2022.7 in c:\\users\\idk babar\\appdata\\local\\programs\\python\\python312\\lib\\site-packages (from pandas) (2024.1)\n",
      "Requirement already satisfied: six>=1.5 in c:\\users\\idk babar\\appdata\\local\\programs\\python\\python312\\lib\\site-packages (from python-dateutil>=2.8.2->pandas) (1.16.0)\n"
     ]
    }
   ],
   "source": [
    "!pip install pandas"
   ]
  },
  {
   "cell_type": "code",
   "execution_count": 13,
   "id": "8ae2bd6c-514f-4edd-bd3f-6f816b360edb",
   "metadata": {},
   "outputs": [],
   "source": [
    "import pandas as pd"
   ]
  },
  {
   "cell_type": "code",
   "execution_count": null,
   "id": "ff125164-a220-4ed0-bc95-5ed7172491e6",
   "metadata": {},
   "outputs": [],
   "source": []
  }
 ],
 "metadata": {
  "kernelspec": {
   "display_name": "Python 3 (ipykernel)",
   "language": "python",
   "name": "python3"
  },
  "language_info": {
   "codemirror_mode": {
    "name": "ipython",
    "version": 3
   },
   "file_extension": ".py",
   "mimetype": "text/x-python",
   "name": "python",
   "nbconvert_exporter": "python",
   "pygments_lexer": "ipython3",
   "version": "3.12.3"
  }
 },
 "nbformat": 4,
 "nbformat_minor": 5
}
